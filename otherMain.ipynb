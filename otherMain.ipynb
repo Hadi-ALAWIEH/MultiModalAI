{
 "cells": [
  {
   "cell_type": "code",
   "id": "initial_id",
   "metadata": {
    "collapsed": true,
    "jupyter": {
     "is_executing": true
    }
   },
   "source": [
    "import cv2\n",
    "import pyttsx3\n",
    "import threading\n",
    "import numpy as np\n",
    "from ultralytics import YOLO  # For YOLO object detection\n",
    "\n",
    "# Initialize Text-to-Speech engine\n",
    "tts_engine = pyttsx3.init()\n",
    "tts_engine.setProperty('rate', 150)  # Adjust speed\n",
    "tts_engine.setProperty('volume', 0.9)  # Adjust volume\n",
    "\n",
    "# Function to speak detected objects\n",
    "def speak_objects(detected_objects):\n",
    "    if detected_objects:\n",
    "        sentence = \"I detected: \" + \", \".join(detected_objects)\n",
    "        tts_engine.say(sentence)\n",
    "        tts_engine.runAndWait()\n",
    "\n",
    "# Initialize YOLO model\n",
    "model = YOLO('yolov8n.pt')  # Replace with path to your YOLO model\n",
    "\n",
    "# Initialize webcam feed\n",
    "cap = cv2.VideoCapture(0)\n",
    "\n",
    "while True:\n",
    "    ret, frame = cap.read()\n",
    "    if not ret:\n",
    "        break\n",
    "\n",
    "    # Perform object detection\n",
    "    results = model(frame)\n",
    "    detections = results[0].boxes.data.cpu().numpy()\n",
    "\n",
    "    # Parse detected objects\n",
    "    detected_objects = []\n",
    "    for detection in detections:\n",
    "        class_id, confidence = int(detection[5]), detection[4]\n",
    "        if confidence > 0.5:  # Confidence threshold\n",
    "            detected_objects.append(results[0].names[class_id])\n",
    "\n",
    "    # Display results on the frame\n",
    "    for detection in detections:\n",
    "        x1, y1, x2, y2 = map(int, detection[:4])\n",
    "        class_id, confidence = int(detection[5]), detection[4]\n",
    "        if confidence > 0.5:\n",
    "            label = f\"{results[0].names[class_id]}: {confidence:.2f}\"\n",
    "            cv2.rectangle(frame, (x1, y1), (x2, y2), (255, 0, 0), 2)\n",
    "            cv2.putText(frame, label, (x1, y1 - 10), cv2.FONT_HERSHEY_SIMPLEX, 0.5, (255, 255, 255), 2)\n",
    "\n",
    "    # Show the video feed\n",
    "    cv2.imshow('Object Detection', frame)\n",
    "\n",
    "    # Use a separate thread for speech synthesis to avoid blocking\n",
    "    if detected_objects:\n",
    "        threading.Thread(target=speak_objects, args=(detected_objects,)).start()\n",
    "\n",
    "    # Exit on pressing 'q'\n",
    "    if cv2.waitKey(1) & 0xFF == ord('q'):\n",
    "        break\n",
    "\n",
    "cap.release()\n",
    "cv2.destroyAllWindows()\n"
   ],
   "outputs": [],
   "execution_count": null
  }
 ],
 "metadata": {
  "kernelspec": {
   "display_name": "Python 3",
   "language": "python",
   "name": "python3"
  },
  "language_info": {
   "codemirror_mode": {
    "name": "ipython",
    "version": 2
   },
   "file_extension": ".py",
   "mimetype": "text/x-python",
   "name": "python",
   "nbconvert_exporter": "python",
   "pygments_lexer": "ipython2",
   "version": "2.7.6"
  }
 },
 "nbformat": 4,
 "nbformat_minor": 5
}
